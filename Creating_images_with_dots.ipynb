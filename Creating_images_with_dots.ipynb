{
 "cells": [
  {
   "cell_type": "code",
   "execution_count": 1,
   "id": "9b255f99",
   "metadata": {},
   "outputs": [
    {
     "data": {
      "text/html": [
       "<div>\n",
       "<style scoped>\n",
       "    .dataframe tbody tr th:only-of-type {\n",
       "        vertical-align: middle;\n",
       "    }\n",
       "\n",
       "    .dataframe tbody tr th {\n",
       "        vertical-align: top;\n",
       "    }\n",
       "\n",
       "    .dataframe thead th {\n",
       "        text-align: right;\n",
       "    }\n",
       "</style>\n",
       "<table border=\"1\" class=\"dataframe\">\n",
       "  <thead>\n",
       "    <tr style=\"text-align: right;\">\n",
       "      <th></th>\n",
       "      <th>imName</th>\n",
       "      <th>x</th>\n",
       "      <th>y</th>\n",
       "    </tr>\n",
       "  </thead>\n",
       "  <tbody>\n",
       "    <tr>\n",
       "      <th>0</th>\n",
       "      <td>BAILa2014a_000001</td>\n",
       "      <td>350.0</td>\n",
       "      <td>1455.0</td>\n",
       "    </tr>\n",
       "    <tr>\n",
       "      <th>1</th>\n",
       "      <td>BAILa2014a_000001</td>\n",
       "      <td>849.0</td>\n",
       "      <td>1327.0</td>\n",
       "    </tr>\n",
       "    <tr>\n",
       "      <th>2</th>\n",
       "      <td>BAILa2014a_000001</td>\n",
       "      <td>1129.0</td>\n",
       "      <td>1042.0</td>\n",
       "    </tr>\n",
       "    <tr>\n",
       "      <th>3</th>\n",
       "      <td>BAILa2014a_000001</td>\n",
       "      <td>73.0</td>\n",
       "      <td>1157.0</td>\n",
       "    </tr>\n",
       "    <tr>\n",
       "      <th>4</th>\n",
       "      <td>BAILa2014a_000001</td>\n",
       "      <td>476.0</td>\n",
       "      <td>934.0</td>\n",
       "    </tr>\n",
       "    <tr>\n",
       "      <th>...</th>\n",
       "      <td>...</td>\n",
       "      <td>...</td>\n",
       "      <td>...</td>\n",
       "    </tr>\n",
       "    <tr>\n",
       "      <th>973999</th>\n",
       "      <td>SPIGa2014b_000163</td>\n",
       "      <td>296.0</td>\n",
       "      <td>451.0</td>\n",
       "    </tr>\n",
       "    <tr>\n",
       "      <th>974000</th>\n",
       "      <td>SPIGa2014b_000163</td>\n",
       "      <td>334.0</td>\n",
       "      <td>433.0</td>\n",
       "    </tr>\n",
       "    <tr>\n",
       "      <th>974001</th>\n",
       "      <td>SPIGa2014b_000163</td>\n",
       "      <td>1620.0</td>\n",
       "      <td>280.0</td>\n",
       "    </tr>\n",
       "    <tr>\n",
       "      <th>974002</th>\n",
       "      <td>SPIGa2014b_000163</td>\n",
       "      <td>1667.0</td>\n",
       "      <td>207.0</td>\n",
       "    </tr>\n",
       "    <tr>\n",
       "      <th>974003</th>\n",
       "      <td>SPIGa2014b_000163</td>\n",
       "      <td>1912.0</td>\n",
       "      <td>306.0</td>\n",
       "    </tr>\n",
       "  </tbody>\n",
       "</table>\n",
       "<p>974004 rows × 3 columns</p>\n",
       "</div>"
      ],
      "text/plain": [
       "                   imName       x       y\n",
       "0       BAILa2014a_000001   350.0  1455.0\n",
       "1       BAILa2014a_000001   849.0  1327.0\n",
       "2       BAILa2014a_000001  1129.0  1042.0\n",
       "3       BAILa2014a_000001    73.0  1157.0\n",
       "4       BAILa2014a_000001   476.0   934.0\n",
       "...                   ...     ...     ...\n",
       "973999  SPIGa2014b_000163   296.0   451.0\n",
       "974000  SPIGa2014b_000163   334.0   433.0\n",
       "974001  SPIGa2014b_000163  1620.0   280.0\n",
       "974002  SPIGa2014b_000163  1667.0   207.0\n",
       "974003  SPIGa2014b_000163  1912.0   306.0\n",
       "\n",
       "[974004 rows x 3 columns]"
      ]
     },
     "execution_count": 1,
     "metadata": {},
     "output_type": "execute_result"
    }
   ],
   "source": [
    "import pandas as pd\n",
    "import numpy as np\n",
    "\n",
    "df = pd.read_csv('df_xy_dots_per_image.csv')\n",
    "\n",
    "df = df.drop(columns='Unnamed: 0')\n",
    "df"
   ]
  },
  {
   "cell_type": "code",
   "execution_count": 2,
   "id": "63efbad6",
   "metadata": {},
   "outputs": [],
   "source": [
    "from PIL import Image\n",
    "\n",
    "img_BAILa = Image.open('pengSize/BAILa2014a_pengSize.png')\n",
    "img_size_BAILa = np.array(img_BAILa).shape"
   ]
  },
  {
   "cell_type": "code",
   "execution_count": 3,
   "id": "78a8dfe9",
   "metadata": {},
   "outputs": [
    {
     "data": {
      "text/plain": [
       " NaN       2846\n",
       " 2031.0      89\n",
       " 2034.0      85\n",
       " 2032.0      76\n",
       " 2036.0      75\n",
       "           ... \n",
       " 2300.0       1\n",
       " 2348.0       1\n",
       "-47.0         1\n",
       "-231.0        1\n",
       " 2054.0       1\n",
       "Name: x, Length: 2088, dtype: int64"
      ]
     },
     "execution_count": 3,
     "metadata": {},
     "output_type": "execute_result"
    }
   ],
   "source": [
    "df_BAILa = df[df['imName'].str.contains('BAILa')]\n",
    "df_BAILa['x'].value_counts(dropna=False)"
   ]
  },
  {
   "cell_type": "code",
   "execution_count": 4,
   "id": "023ebabb",
   "metadata": {},
   "outputs": [
    {
     "name": "stderr",
     "output_type": "stream",
     "text": [
      "/tmp/ipykernel_12051/3713010451.py:1: SettingWithCopyWarning: \n",
      "A value is trying to be set on a copy of a slice from a DataFrame\n",
      "\n",
      "See the caveats in the documentation: https://pandas.pydata.org/pandas-docs/stable/user_guide/indexing.html#returning-a-view-versus-a-copy\n",
      "  df_BAILa.fillna('SemPonto',inplace=True)\n"
     ]
    },
    {
     "data": {
      "text/plain": [
       "SemPonto    2846\n",
       "2031.0        89\n",
       "2034.0        85\n",
       "2032.0        76\n",
       "2036.0        75\n",
       "            ... \n",
       "2300.0         1\n",
       "2348.0         1\n",
       "-47.0          1\n",
       "-231.0         1\n",
       "2054.0         1\n",
       "Name: x, Length: 2088, dtype: int64"
      ]
     },
     "execution_count": 4,
     "metadata": {},
     "output_type": "execute_result"
    }
   ],
   "source": [
    "df_BAILa.fillna('SemPonto',inplace=True)\n",
    "df_BAILa['x'].value_counts(dropna=False)"
   ]
  },
  {
   "cell_type": "code",
   "execution_count": 5,
   "id": "e36a58b6",
   "metadata": {},
   "outputs": [],
   "source": [
    "def transform_to_dict(df, img_size) :\n",
    "    list_of_dicts = []\n",
    "    \n",
    "    for i in range(len(df)) :\n",
    "        print(i)\n",
    "        if i == 0 :\n",
    "            new_arr = np.zeros(img_size)\n",
    "        elif df.loc[i, 'imName'] != df.loc[i-1, 'imName'] :\n",
    "            new_arr = new_arr.flatten()\n",
    "            dict_for_images = {}\n",
    "            dict_for_images['imName'] = df.loc[i-1, 'imName']\n",
    "            dict_for_images['where_peng'] = list(new_arr)\n",
    "            list_of_dicts.append(dict_for_images)\n",
    "            new_arr = np.zeros(img_size)\n",
    "            \n",
    "        if df.loc[i, 'y'] != 'SemPonto' : \n",
    "            x = int(df.loc[i, 'x'])\n",
    "            y = int(df.loc[i, 'y'])\n",
    "            new_arr[y-1, x-1] = 1\n",
    "        \n",
    "    return list_of_dicts"
   ]
  },
  {
   "cell_type": "code",
   "execution_count": null,
   "id": "5b05f732",
   "metadata": {},
   "outputs": [],
   "source": [
    "images_BAILa = transform_to_dict(df_BAILa, img_size_BAILa)"
   ]
  }
 ],
 "metadata": {
  "kernelspec": {
   "display_name": "Python 3 (ipykernel)",
   "language": "python",
   "name": "python3"
  },
  "language_info": {
   "codemirror_mode": {
    "name": "ipython",
    "version": 3
   },
   "file_extension": ".py",
   "mimetype": "text/x-python",
   "name": "python",
   "nbconvert_exporter": "python",
   "pygments_lexer": "ipython3",
   "version": "3.10.6"
  },
  "toc": {
   "base_numbering": 1,
   "nav_menu": {},
   "number_sections": true,
   "sideBar": true,
   "skip_h1_title": false,
   "title_cell": "Table of Contents",
   "title_sidebar": "Contents",
   "toc_cell": false,
   "toc_position": {},
   "toc_section_display": true,
   "toc_window_display": false
  }
 },
 "nbformat": 4,
 "nbformat_minor": 5
}
