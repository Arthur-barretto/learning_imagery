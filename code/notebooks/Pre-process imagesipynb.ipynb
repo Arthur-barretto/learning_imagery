{
 "cells": [
  {
   "cell_type": "code",
   "execution_count": 1,
   "id": "542c75a9-e6c4-446a-80d2-3767ccc6a4cf",
   "metadata": {},
   "outputs": [],
   "source": [
    "import os\n",
    "import matplotlib.pyplot as plt\n",
    "import matplotlib.image as mpimg\n",
    "import numpy as np\n",
    "import pandas as pd\n",
    "from PIL import Image\n",
    "import sys\n",
    "import csv\n",
    "import multiprocessing\n",
    "import cv2"
   ]
  },
  {
   "cell_type": "code",
   "execution_count": 2,
   "id": "d7a95667-4975-49a7-beb7-3e5919444d26",
   "metadata": {},
   "outputs": [],
   "source": [
    "PATH = '/home/jupyter/data/low_resolution'"
   ]
  },
  {
   "cell_type": "code",
   "execution_count": 3,
   "id": "f8406ef0-4bc2-4468-ade1-c81759a3e209",
   "metadata": {},
   "outputs": [],
   "source": [
    "def Catchpengsize(myDir, format='.png'):\n",
    "    fileList = []\n",
    "    labels = []\n",
    "    names = []\n",
    "    for root, dirs, files in os.walk(myDir, topdown=True):\n",
    "        #print(dirs)\n",
    "        labels.append(dirs)\n",
    "        files.sort()\n",
    "        for name in files:\n",
    "            if name.endswith(format):\n",
    "                fullName = os.path.join(root, name)\n",
    "                fileList.append(fullName)\n",
    "                names.append(name)\n",
    "                \n",
    "    return fileList, names, labels"
   ]
  },
  {
   "cell_type": "code",
   "execution_count": 4,
   "id": "407a8dc8-7dd1-4fdf-96f5-f46bb8b55c81",
   "metadata": {},
   "outputs": [],
   "source": [
    "# load the original image\n",
    "myDir = '/home/jupyter/data/raw_data/' #mudar \n",
    "myFileList_pgsize, names_pgsize, labels_pgsize  = Catchpengsize(myDir)\n",
    "labels_pgsize = labels_pgsize[0]\n",
    "#labels.remove('.ipynb_checkpoints')"
   ]
  },
  {
   "cell_type": "code",
   "execution_count": 5,
   "id": "c6309371-878b-4b85-8b2a-45c90f099ea9",
   "metadata": {},
   "outputs": [],
   "source": [
    "images_list_pgsize = []\n",
    "cameras =[]\n",
    "width=[];height=[];ratio=[];\n",
    "for n, file in enumerate(myFileList_pgsize):\n",
    "    img_file = cv2.imread(file)\n",
    "    #print(file,img_file.shape)\n",
    "    width, height, channels = img_file.shape\n",
    "    if width == 1080:\n",
    "        cameras.append(file[34:44])"
   ]
  },
  {
   "cell_type": "code",
   "execution_count": 6,
   "id": "c2c42f88-04c3-428d-8c33-58ca6a101d18",
   "metadata": {},
   "outputs": [],
   "source": [
    "# default format can be changed as needed\n",
    "def createFileList(myDir, format='.JPG'):\n",
    "    fileList = []\n",
    "    labels = []\n",
    "    names = []\n",
    "    for root, dirs, files in os.walk(myDir, topdown=True):\n",
    "        #print(dirs)\n",
    "        labels.append(dirs)\n",
    "        files.sort()\n",
    "        for name in files:\n",
    "            if name.endswith(format):\n",
    "                fullName = os.path.join(root, name)\n",
    "                fileList.append(fullName)\n",
    "                names.append(name)\n",
    "                \n",
    "    return fileList"
   ]
  },
  {
   "cell_type": "code",
   "execution_count": 7,
   "id": "547aa48e-ec10-4db7-a27e-cee911a38552",
   "metadata": {},
   "outputs": [],
   "source": [
    "# load the original image\n",
    "myDir = '/home/jupyter/data/low_resolution' #mudar \n",
    "myFileList  = createFileList(myDir)"
   ]
  },
  {
   "cell_type": "code",
   "execution_count": 8,
   "id": "fdd8c6f1-28c7-4b31-84b3-8ac6ec6e362a",
   "metadata": {},
   "outputs": [],
   "source": [
    "df = pd.read_csv('xy_images_baixa_res.csv',index_col='index').drop('Unnamed: 0',axis=1)"
   ]
  },
  {
   "cell_type": "code",
   "execution_count": 24,
   "id": "75b618ce-329e-4e03-9732-85733b25f4fe",
   "metadata": {},
   "outputs": [],
   "source": [
    "import math"
   ]
  },
  {
   "cell_type": "code",
   "execution_count": null,
   "id": "a9528ab3-d8e4-404f-ba0b-97a065a02027",
   "metadata": {},
   "outputs": [
    {
     "name": "stderr",
     "output_type": "stream",
     "text": [
      "Corrupt JPEG data: 672 extraneous bytes before marker 0xd9\n"
     ]
    }
   ],
   "source": [
    "for n, file in enumerate(myFileList):\n",
    "    img_file = cv2.imread(file)\n",
    "    df_temp = df[df['imName'] == file[-21:-4]]\n",
    "    img_grey = cv2.cvtColor(img_file, cv2.COLOR_BGR2GRAY)\n",
    "    for row,j in df_temp.iterrows():\n",
    "        #print(type(j[1]))\n",
    "        if math.isnan(j[1]):\n",
    "            pass\n",
    "        else:\n",
    "            img_rec = cv2.rectangle(img_file, (int(j[1])-30, int(j[2]+30)),\n",
    "                                (int(j[1])+30, int(j[2]-30)),\n",
    "                                (0, 255, 0),\n",
    "                                2)\n",
    "    img_file = cv2.resize(img_file,(width, height))\n",
    "    img_grey = cv2.cvtColor(img_file, cv2.COLOR_BGR2GRAY)\n",
    "        #plt.imshow(img_rec.astype(\"uint8\"))\n",
    "    cv2.imwrite('data/low_resolution_annotate/'+ file[-21:-4]+'.jpg',img_rec)"
   ]
  },
  {
   "cell_type": "code",
   "execution_count": null,
   "id": "641d8a4b-ed7f-4d63-86b9-7d91728f1d0a",
   "metadata": {},
   "outputs": [],
   "source": []
  }
 ],
 "metadata": {
  "environment": {
   "kernel": "python3",
   "name": "tf2-gpu.2-11.m103",
   "type": "gcloud",
   "uri": "gcr.io/deeplearning-platform-release/tf2-gpu.2-11:m103"
  },
  "kernelspec": {
   "display_name": "Python 3 (ipykernel)",
   "language": "python",
   "name": "python3"
  },
  "language_info": {
   "codemirror_mode": {
    "name": "ipython",
    "version": 3
   },
   "file_extension": ".py",
   "mimetype": "text/x-python",
   "name": "python",
   "nbconvert_exporter": "python",
   "pygments_lexer": "ipython3",
   "version": "3.7.12"
  }
 },
 "nbformat": 4,
 "nbformat_minor": 5
}
