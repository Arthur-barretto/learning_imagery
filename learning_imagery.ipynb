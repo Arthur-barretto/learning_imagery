{
  "nbformat": 4,
  "nbformat_minor": 0,
  "metadata": {
    "colab": {
      "provenance": [],
      "authorship_tag": "ABX9TyOPlGregxWPUHZrOj28UkkD",
      "include_colab_link": true
    },
    "kernelspec": {
      "name": "python3",
      "display_name": "Python 3"
    },
    "language_info": {
      "name": "python"
    }
  },
  "cells": [
    {
      "cell_type": "markdown",
      "metadata": {
        "id": "view-in-github",
        "colab_type": "text"
      },
      "source": [
        "<a href=\"https://colab.research.google.com/github/catarinacecilio/learning_imagery/blob/master/learning_imagery.ipynb\" target=\"_parent\"><img src=\"https://colab.research.google.com/assets/colab-badge.svg\" alt=\"Open In Colab\"/></a>"
      ]
    },
    {
      "cell_type": "code",
      "execution_count": null,
      "metadata": {
        "id": "TPGZo-gG2nTO"
      },
      "outputs": [],
      "source": [
        "import os\n",
        "import matplotlib.pyplot as plt\n",
        "import matplotlib.image as mpimg\n",
        "import numpy as np\n",
        "import pandas as pd"
      ]
    },
    {
      "cell_type": "markdown",
      "source": [
        "# Raw Data"
      ],
      "metadata": {
        "id": "zoy5oZyy35mI"
      }
    },
    {
      "cell_type": "code",
      "source": [
        "!tar -xvzf /content/NEKOa.tgz -C /content/raw_data\n",
        "!tar -xvzf /content/NEKOb.tgz -C /content/raw_data\n",
        "!tar -xvzf /content/NEKOc.tgz -C /content/raw_data\n",
        "!tar -xvzf /content/PETEc.tgz -C /content/raw_data\n",
        "!tar -xvzf /content/CompleteAnnotations_2016-07-11.tgz -C /content/raw_data"
      ],
      "metadata": {
        "id": "QXKWuXWY2wRF"
      },
      "execution_count": null,
      "outputs": []
    },
    {
      "cell_type": "code",
      "source": [
        "roi_df = pd.read_csv('raw_data/roi.tsv', sep='\\,')\n",
        "camera_names = roi_df['Camera name'].size\n",
        "camera_names"
      ],
      "metadata": {
        "id": "qphcf1fJ27em"
      },
      "execution_count": null,
      "outputs": []
    },
    {
      "cell_type": "code",
      "source": [
        "def file_jpg(file):\n",
        "  files = os.listdir(file)\n",
        "  return [r for r in files if '.JPG' in r]"
      ],
      "metadata": {
        "id": "2H081J6l3Nbs"
      },
      "execution_count": null,
      "outputs": []
    },
    {
      "cell_type": "code",
      "source": [
        "folder = r'/content/raw_data/'\n",
        "dir = os.listdir(folder)\n",
        "\n",
        "file_names=[]\n",
        "for file, i in zip(dir, range(len(dir))):\n",
        "  file_names.append(file_jpg(folder+file))\n",
        "  file_names[i].sort()\n",
        "file_names"
      ],
      "metadata": {
        "id": "JLo3NHkn3QF8"
      },
      "execution_count": null,
      "outputs": []
    },
    {
      "cell_type": "code",
      "source": [
        "n_files_dir = len(test[0]), len(test[1]), len(test[2])\n",
        "total_files = np.array(n_files_dir).sum()\n",
        "total_files, n_files_dir"
      ],
      "metadata": {
        "id": "XP8XD-Jt3TgZ"
      },
      "execution_count": null,
      "outputs": []
    }
  ]
}